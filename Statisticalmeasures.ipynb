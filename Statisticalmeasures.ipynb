{
 "cells": [
  {
   "cell_type": "markdown",
   "id": "f8cdcac7-3a8f-4064-a0a5-2e925e9d0998",
   "metadata": {},
   "source": [
    "# Statistical Measures and Hypothesis Testing"
   ]
  },
  {
   "cell_type": "markdown",
   "id": "8797f68b-7f9a-405d-a18a-1952b65132b5",
   "metadata": {},
   "source": [
    "#### 1.  You are working with the dataset iris. For each of the following numerical columns, \n",
    "#### a. calculate the following statistical measures:  mean, median, standard deviation , variance, count, skewness\n",
    "#### b. Visualize the distribution of each numerical column using boxplot and histogram."
   ]
  },
  {
   "cell_type": "code",
   "execution_count": 97,
   "id": "ca3dec94-a91f-4ef4-aebd-526ef4467594",
   "metadata": {},
   "outputs": [
    {
     "data": {
      "text/html": [
       "<div>\n",
       "<style scoped>\n",
       "    .dataframe tbody tr th:only-of-type {\n",
       "        vertical-align: middle;\n",
       "    }\n",
       "\n",
       "    .dataframe tbody tr th {\n",
       "        vertical-align: top;\n",
       "    }\n",
       "\n",
       "    .dataframe thead th {\n",
       "        text-align: right;\n",
       "    }\n",
       "</style>\n",
       "<table border=\"1\" class=\"dataframe\">\n",
       "  <thead>\n",
       "    <tr style=\"text-align: right;\">\n",
       "      <th></th>\n",
       "      <th>sepal_length</th>\n",
       "      <th>sepal_width</th>\n",
       "      <th>petal_length</th>\n",
       "      <th>petal_width</th>\n",
       "      <th>species</th>\n",
       "    </tr>\n",
       "  </thead>\n",
       "  <tbody>\n",
       "    <tr>\n",
       "      <th>0</th>\n",
       "      <td>5.1</td>\n",
       "      <td>3.5</td>\n",
       "      <td>1.4</td>\n",
       "      <td>0.2</td>\n",
       "      <td>setosa</td>\n",
       "    </tr>\n",
       "    <tr>\n",
       "      <th>1</th>\n",
       "      <td>4.9</td>\n",
       "      <td>3.0</td>\n",
       "      <td>1.4</td>\n",
       "      <td>0.2</td>\n",
       "      <td>setosa</td>\n",
       "    </tr>\n",
       "    <tr>\n",
       "      <th>2</th>\n",
       "      <td>4.7</td>\n",
       "      <td>3.2</td>\n",
       "      <td>1.3</td>\n",
       "      <td>0.2</td>\n",
       "      <td>setosa</td>\n",
       "    </tr>\n",
       "    <tr>\n",
       "      <th>3</th>\n",
       "      <td>4.6</td>\n",
       "      <td>3.1</td>\n",
       "      <td>1.5</td>\n",
       "      <td>0.2</td>\n",
       "      <td>setosa</td>\n",
       "    </tr>\n",
       "    <tr>\n",
       "      <th>4</th>\n",
       "      <td>5.0</td>\n",
       "      <td>3.6</td>\n",
       "      <td>1.4</td>\n",
       "      <td>0.2</td>\n",
       "      <td>setosa</td>\n",
       "    </tr>\n",
       "    <tr>\n",
       "      <th>...</th>\n",
       "      <td>...</td>\n",
       "      <td>...</td>\n",
       "      <td>...</td>\n",
       "      <td>...</td>\n",
       "      <td>...</td>\n",
       "    </tr>\n",
       "    <tr>\n",
       "      <th>145</th>\n",
       "      <td>6.7</td>\n",
       "      <td>3.0</td>\n",
       "      <td>5.2</td>\n",
       "      <td>2.3</td>\n",
       "      <td>virginica</td>\n",
       "    </tr>\n",
       "    <tr>\n",
       "      <th>146</th>\n",
       "      <td>6.3</td>\n",
       "      <td>2.5</td>\n",
       "      <td>5.0</td>\n",
       "      <td>1.9</td>\n",
       "      <td>virginica</td>\n",
       "    </tr>\n",
       "    <tr>\n",
       "      <th>147</th>\n",
       "      <td>6.5</td>\n",
       "      <td>3.0</td>\n",
       "      <td>5.2</td>\n",
       "      <td>2.0</td>\n",
       "      <td>virginica</td>\n",
       "    </tr>\n",
       "    <tr>\n",
       "      <th>148</th>\n",
       "      <td>6.2</td>\n",
       "      <td>3.4</td>\n",
       "      <td>5.4</td>\n",
       "      <td>2.3</td>\n",
       "      <td>virginica</td>\n",
       "    </tr>\n",
       "    <tr>\n",
       "      <th>149</th>\n",
       "      <td>5.9</td>\n",
       "      <td>3.0</td>\n",
       "      <td>5.1</td>\n",
       "      <td>1.8</td>\n",
       "      <td>virginica</td>\n",
       "    </tr>\n",
       "  </tbody>\n",
       "</table>\n",
       "<p>150 rows × 5 columns</p>\n",
       "</div>"
      ],
      "text/plain": [
       "     sepal_length  sepal_width  petal_length  petal_width    species\n",
       "0             5.1          3.5           1.4          0.2     setosa\n",
       "1             4.9          3.0           1.4          0.2     setosa\n",
       "2             4.7          3.2           1.3          0.2     setosa\n",
       "3             4.6          3.1           1.5          0.2     setosa\n",
       "4             5.0          3.6           1.4          0.2     setosa\n",
       "..            ...          ...           ...          ...        ...\n",
       "145           6.7          3.0           5.2          2.3  virginica\n",
       "146           6.3          2.5           5.0          1.9  virginica\n",
       "147           6.5          3.0           5.2          2.0  virginica\n",
       "148           6.2          3.4           5.4          2.3  virginica\n",
       "149           5.9          3.0           5.1          1.8  virginica\n",
       "\n",
       "[150 rows x 5 columns]"
      ]
     },
     "execution_count": 97,
     "metadata": {},
     "output_type": "execute_result"
    }
   ],
   "source": [
    "import seaborn as sns\n",
    "data = sns.load_dataset(\"iris\")\n",
    "data"
   ]
  },
  {
   "cell_type": "code",
   "execution_count": 5,
   "id": "20d9e4d2-b121-428e-912f-82630d8536ab",
   "metadata": {
    "scrolled": true
   },
   "outputs": [
    {
     "data": {
      "text/html": [
       "<div>\n",
       "<style scoped>\n",
       "    .dataframe tbody tr th:only-of-type {\n",
       "        vertical-align: middle;\n",
       "    }\n",
       "\n",
       "    .dataframe tbody tr th {\n",
       "        vertical-align: top;\n",
       "    }\n",
       "\n",
       "    .dataframe thead th {\n",
       "        text-align: right;\n",
       "    }\n",
       "</style>\n",
       "<table border=\"1\" class=\"dataframe\">\n",
       "  <thead>\n",
       "    <tr style=\"text-align: right;\">\n",
       "      <th></th>\n",
       "      <th>sepal_length</th>\n",
       "      <th>sepal_width</th>\n",
       "      <th>petal_length</th>\n",
       "      <th>petal_width</th>\n",
       "    </tr>\n",
       "  </thead>\n",
       "  <tbody>\n",
       "    <tr>\n",
       "      <th>count</th>\n",
       "      <td>150.000000</td>\n",
       "      <td>150.000000</td>\n",
       "      <td>150.000000</td>\n",
       "      <td>150.000000</td>\n",
       "    </tr>\n",
       "    <tr>\n",
       "      <th>mean</th>\n",
       "      <td>5.843333</td>\n",
       "      <td>3.057333</td>\n",
       "      <td>3.758000</td>\n",
       "      <td>1.199333</td>\n",
       "    </tr>\n",
       "    <tr>\n",
       "      <th>std</th>\n",
       "      <td>0.828066</td>\n",
       "      <td>0.435866</td>\n",
       "      <td>1.765298</td>\n",
       "      <td>0.762238</td>\n",
       "    </tr>\n",
       "    <tr>\n",
       "      <th>min</th>\n",
       "      <td>4.300000</td>\n",
       "      <td>2.000000</td>\n",
       "      <td>1.000000</td>\n",
       "      <td>0.100000</td>\n",
       "    </tr>\n",
       "    <tr>\n",
       "      <th>25%</th>\n",
       "      <td>5.100000</td>\n",
       "      <td>2.800000</td>\n",
       "      <td>1.600000</td>\n",
       "      <td>0.300000</td>\n",
       "    </tr>\n",
       "    <tr>\n",
       "      <th>50%</th>\n",
       "      <td>5.800000</td>\n",
       "      <td>3.000000</td>\n",
       "      <td>4.350000</td>\n",
       "      <td>1.300000</td>\n",
       "    </tr>\n",
       "    <tr>\n",
       "      <th>75%</th>\n",
       "      <td>6.400000</td>\n",
       "      <td>3.300000</td>\n",
       "      <td>5.100000</td>\n",
       "      <td>1.800000</td>\n",
       "    </tr>\n",
       "    <tr>\n",
       "      <th>max</th>\n",
       "      <td>7.900000</td>\n",
       "      <td>4.400000</td>\n",
       "      <td>6.900000</td>\n",
       "      <td>2.500000</td>\n",
       "    </tr>\n",
       "  </tbody>\n",
       "</table>\n",
       "</div>"
      ],
      "text/plain": [
       "       sepal_length  sepal_width  petal_length  petal_width\n",
       "count    150.000000   150.000000    150.000000   150.000000\n",
       "mean       5.843333     3.057333      3.758000     1.199333\n",
       "std        0.828066     0.435866      1.765298     0.762238\n",
       "min        4.300000     2.000000      1.000000     0.100000\n",
       "25%        5.100000     2.800000      1.600000     0.300000\n",
       "50%        5.800000     3.000000      4.350000     1.300000\n",
       "75%        6.400000     3.300000      5.100000     1.800000\n",
       "max        7.900000     4.400000      6.900000     2.500000"
      ]
     },
     "execution_count": 5,
     "metadata": {},
     "output_type": "execute_result"
    }
   ],
   "source": [
    "data.describe()"
   ]
  },
  {
   "cell_type": "code",
   "execution_count": 13,
   "id": "99bb9cfe-f845-4cb5-b4b0-419eb2199ea9",
   "metadata": {},
   "outputs": [
    {
     "data": {
      "text/plain": [
       "sepal_length    0.314911\n",
       "sepal_width     0.318966\n",
       "petal_length   -0.274884\n",
       "petal_width    -0.102967\n",
       "dtype: float64"
      ]
     },
     "execution_count": 13,
     "metadata": {},
     "output_type": "execute_result"
    }
   ],
   "source": [
    "data.skew(numeric_only = True)"
   ]
  },
  {
   "cell_type": "markdown",
   "id": "2c8db3b3-e53f-481a-81e3-fad842415c77",
   "metadata": {},
   "source": [
    "#### Sepal length and sepal width are positively skewed and petal length and petal width are negatively skewed."
   ]
  },
  {
   "cell_type": "code",
   "execution_count": 15,
   "id": "f9118397-bd33-4818-b3e6-38266f072740",
   "metadata": {},
   "outputs": [
    {
     "data": {
      "text/plain": [
       "sepal_length    0.685694\n",
       "sepal_width     0.189979\n",
       "petal_length    3.116278\n",
       "petal_width     0.581006\n",
       "dtype: float64"
      ]
     },
     "execution_count": 15,
     "metadata": {},
     "output_type": "execute_result"
    }
   ],
   "source": [
    "data.var(numeric_only = True)"
   ]
  },
  {
   "cell_type": "markdown",
   "id": "2357bcae-f846-45ba-ae3c-877b9ad585be",
   "metadata": {},
   "source": [
    "#### Petal length values are more dispersed from mean."
   ]
  },
  {
   "cell_type": "code",
   "execution_count": 47,
   "id": "1feb2e53-8191-4078-8139-42919c79b1be",
   "metadata": {},
   "outputs": [
    {
     "data": {
      "text/plain": [
       "<Axes: xlabel='sepal_length', ylabel='Count'>"
      ]
     },
     "execution_count": 47,
     "metadata": {},
     "output_type": "execute_result"
    },
    {
     "data": {
      "image/png": "[encoded data removed]",
      "text/plain": [
       "<Figure size 640x480 with 1 Axes>"
      ]
     },
     "metadata": {},
     "output_type": "display_data"
    }
   ],
   "source": [
    "\n",
    "sns.histplot(data[\"sepal_length\"],color=\"orange\")\n"
   ]
  },
  {
   "cell_type": "code",
   "execution_count": null,
   "id": "a4c5c9c6-7294-45e8-bc69-34a7d6195c7a",
   "metadata": {},
   "outputs": [],
   "source": []
  },
  {
   "cell_type": "code",
   "execution_count": 27,
   "id": "e6596915-bd28-4e08-87d7-ddecb5fc45fd",
   "metadata": {},
   "outputs": [
    {
     "data": {
      "text/plain": [
       "<Axes: xlabel='sepal_width', ylabel='Count'>"
      ]
     },
     "execution_count": 27,
     "metadata": {},
     "output_type": "execute_result"
    },
    {
     "data": {
      "image/png": "[encoded data removed]",
      "text/plain": [
       "<Figure size 640x480 with 1 Axes>"
      ]
     },
     "metadata": {},
     "output_type": "display_data"
    }
   ],
   "source": [
    "sns.histplot(data[\"sepal_width\"],color=\"lightgreen\")"
   ]
  },
  {
   "cell_type": "code",
   "execution_count": 107,
   "id": "d935b66f-9230-4ec3-af7a-7277c3461332",
   "metadata": {},
   "outputs": [
    {
     "data": {
      "text/plain": [
       "<Axes: xlabel='petal_length'>"
      ]
     },
     "execution_count": 107,
     "metadata": {},
     "output_type": "execute_result"
    },
    {
     "data": {
      "image/png": "[encoded data removed]",
      "text/plain": [
       "<Figure size 640x480 with 1 Axes>"
      ]
     },
     "metadata": {},
     "output_type": "display_data"
    }
   ],
   "source": [
    "sns.boxplot(data[\"petal_length\"],color=\"skyblue\",orient =\"y\")"
   ]
  },
  {
   "cell_type": "code",
   "execution_count": 105,
   "id": "51bbd8a2-9b40-4e7f-8a00-93dbe9fcfbd6",
   "metadata": {
    "scrolled": true
   },
   "outputs": [
    {
     "data": {
      "text/plain": [
       "<Axes: xlabel='petal_width'>"
      ]
     },
     "execution_count": 105,
     "metadata": {},
     "output_type": "execute_result"
    },
    {
     "data": {
      "image/png": "[encoded data removed]",
      "text/plain": [
       "<Figure size 640x480 with 1 Axes>"
      ]
     },
     "metadata": {},
     "output_type": "display_data"
    }
   ],
   "source": [
    "sns.boxplot(data[\"petal_width\"],color=\"pink\",orient = \"y\")"
   ]
  },
  {
   "cell_type": "markdown",
   "id": "892d1ef0-7434-4793-ab0f-2f335839779b",
   "metadata": {},
   "source": [
    "#### 2.  Imagine you are a data scientist at a company, and you want to analyze whether there is a significant difference in the generated by two sales teams. You collected the following data for their weekly sales revenue (in thousands of dollars) over the past few weeks:\n",
    "#### (in thousands of dollars)Team A: 12, 15, 14, 10, 13, 11, 12, 14, 16, 13\n",
    "#### (in thousands of dollars)Team B: 14, 17, 16, 15, 18, 16, 15, 17, 19, 16\n",
    "### Hypothesis:\n",
    "#### There is no significant difference in the average sales revenue between Team A and Team B.\n",
    "#### There is a significant difference in the average sales revenue between Team A and Team B.\n",
    "#### Perform an to test whether there is a significant difference in the sales revenue between Team A and Team B. Use a significance level of  0.5."
   ]
  },
  {
   "cell_type": "code",
   "execution_count": 61,
   "id": "426bf17b-5e90-4c9c-8f8a-5418e03d11de",
   "metadata": {},
   "outputs": [
    {
     "name": "stdout",
     "output_type": "stream",
     "text": [
      "T-statistic = -4.422993810926827\n",
      "p_value =  0.0003283390691027181\n",
      "Decision =  Reject null hypothesis  at significance level 0.05\n",
      "Conclusion :  It is statistically evident that there is a significance difference in the average sales revenue between Team A and Team B.\n"
     ]
    }
   ],
   "source": [
    "import numpy as np\n",
    "from scipy import stats\n",
    "\n",
    "TeamA = np.array([12, 15, 14, 10, 13, 11, 12, 14, 16, 13])\n",
    "TeamB = np.array([14, 17, 16, 15, 18, 16, 15, 17, 19, 16])\n",
    "\n",
    "# null hypothesis :There is no significant difference in the average sales revenue between Team A and Team B.\n",
    "# Alternative hypothesis :There is a significant difference in the average sales revenue between Team A and Team B.\n",
    "\n",
    "# performing t test independently:\n",
    "t_statistic,p_value = stats.ttest_ind(TeamA,TeamB)\n",
    "significance = 0.05 \n",
    "\n",
    "#Decision:\n",
    "if p_value <0.05:\n",
    "    decision = \"Reject null hypothesis\"\n",
    "else:\n",
    "    decision = \"accept null hypothesis\"\n",
    "\n",
    "#Conclusion :\n",
    "if decision == \"Reject null hypothesis\":\n",
    "     conclusion = \"It is statistically evident that there is a significance difference in the average sales revenue between Team A and Team B.\"\n",
    "else:\n",
    "     conclusion = \"There is insufficient evidence to claim  a significance difference in the average sales revenue between Team A and Team B.\"\n",
    "\n",
    "#Display results:\n",
    "print(\"T-statistic =\",t_statistic)\n",
    "print(\"p_value = \",p_value)\n",
    "print(\"Decision = \",decision,\" at significance level 0.05\")\n",
    "print (\"Conclusion : \",conclusion)\n",
    "\n"
   ]
  },
  {
   "cell_type": "markdown",
   "id": "33c88ce5-5d74-427f-a26a-2311b689d8f8",
   "metadata": {},
   "source": [
    "#### 3. You are a data analyst working for a retail company. The company wants to analyze whether the (Cash or Card) is associated with the . The company has observed the following data:Observed Frequency Table (Payment Method vs. Age Group)\n",
    "#### There is no association between the payment method and the customer's age group. The two variables are independent.\n",
    "#### There is an association between the payment method and the customer's age group. The two variables are dependent.\n",
    "#### Perform a test whether there is an association between the payment method and the customer's age group.\n",
    "p."
   ]
  },
  {
   "cell_type": "code",
   "execution_count": 81,
   "id": "2c7d7fdf-1d0b-472c-a0dd-96831d726e32",
   "metadata": {},
   "outputs": [
    {
     "data": {
      "text/html": [
       "<div>\n",
       "<style scoped>\n",
       "    .dataframe tbody tr th:only-of-type {\n",
       "        vertical-align: middle;\n",
       "    }\n",
       "\n",
       "    .dataframe tbody tr th {\n",
       "        vertical-align: top;\n",
       "    }\n",
       "\n",
       "    .dataframe thead th {\n",
       "        text-align: right;\n",
       "    }\n",
       "</style>\n",
       "<table border=\"1\" class=\"dataframe\">\n",
       "  <thead>\n",
       "    <tr style=\"text-align: right;\">\n",
       "      <th></th>\n",
       "      <th>Cash</th>\n",
       "      <th>Card</th>\n",
       "    </tr>\n",
       "    <tr>\n",
       "      <th>Age Group</th>\n",
       "      <th></th>\n",
       "      <th></th>\n",
       "    </tr>\n",
       "  </thead>\n",
       "  <tbody>\n",
       "    <tr>\n",
       "      <th>Under 20</th>\n",
       "      <td>30</td>\n",
       "      <td>20</td>\n",
       "    </tr>\n",
       "    <tr>\n",
       "      <th>20-40</th>\n",
       "      <td>40</td>\n",
       "      <td>30</td>\n",
       "    </tr>\n",
       "    <tr>\n",
       "      <th>40-60</th>\n",
       "      <td>50</td>\n",
       "      <td>40</td>\n",
       "    </tr>\n",
       "    <tr>\n",
       "      <th>Over 60</th>\n",
       "      <td>20</td>\n",
       "      <td>30</td>\n",
       "    </tr>\n",
       "  </tbody>\n",
       "</table>\n",
       "</div>"
      ],
      "text/plain": [
       "           Cash  Card\n",
       "Age Group            \n",
       "Under 20     30    20\n",
       "20-40        40    30\n",
       "40-60        50    40\n",
       "Over 60      20    30"
      ]
     },
     "execution_count": 81,
     "metadata": {},
     "output_type": "execute_result"
    }
   ],
   "source": [
    "import pandas as pd\n",
    "data = pd.read_csv(r\"C:\\Users\\BIT LOGIC\\Downloads\\Untitled spreadsheet - Sheet1 (5).csv\")\n",
    "data.set_index(\"Age Group\",inplace = True)\n",
    "data"
   ]
  },
  {
   "cell_type": "code",
   "execution_count": 87,
   "id": "dc6b8ef2-cfc6-4296-b291-546ed7e08287",
   "metadata": {},
   "outputs": [
    {
     "name": "stdout",
     "output_type": "stream",
     "text": [
      "Chi-Square Statistic :5.030990173847317,P_value:0.16954190566469166\n",
      "Failed to reject null.\n",
      " There is no association between the payment method and the customer's age group. The two variables are independent.\n"
     ]
    }
   ],
   "source": [
    "# null hypothesis\n",
    "H0 = \"There is no association between the payment method and the customer's age group. The two variables are independent.\"\n",
    "# Alternative hypothesis\n",
    "H1 = \"There is an association between the payment method and the customer's age group. The two variables are dependent.\"\n",
    "# significance level =0.05\n",
    "\n",
    "# Chi Square test :\n",
    "chi2,p,dof,expected = stats.chi2_contingency(data)\n",
    "print(f\"Chi-Square Statistic :{chi2},P_value:{p}\")\n",
    "\n",
    "# Decision:\n",
    "if p<0.05 :\n",
    "    print(\"reject null hypothesis.\\n\",H1)\n",
    "else:\n",
    "    print(\"Failed to reject null.\\n\",H0)\n",
    "    "
   ]
  },
  {
   "cell_type": "markdown",
   "id": "faac61a7-9aec-4ade-a76f-35d15f54aac2",
   "metadata": {},
   "source": [
    "#### From Chi square test,it is clear that there is no significant association between payment method and customer's age group ."
   ]
  },
  {
   "cell_type": "code",
   "execution_count": null,
   "id": "919d60c7-acb4-4837-9a00-c44a0441bba7",
   "metadata": {},
   "outputs": [],
   "source": []
  }
 ],
 "metadata": {
  "kernelspec": {
   "display_name": "Python 3 (ipykernel)",
   "language": "python",
   "name": "python3"
  },
  "language_info": {
   "codemirror_mode": {
    "name": "ipython",
    "version": 3
   },
   "file_extension": ".py",
   "mimetype": "text/x-python",
   "name": "python",
   "nbconvert_exporter": "python",
   "pygments_lexer": "ipython3",
   "version": "3.12.4"
  }
 },
 "nbformat": 4,
 "nbformat_minor": 5
}
