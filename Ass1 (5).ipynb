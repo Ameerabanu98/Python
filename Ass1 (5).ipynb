{
 "cells": [
  {
   "cell_type": "code",
   "execution_count": 1,
   "id": "73e70d82-4821-42aa-9571-cf36ed0d64d2",
   "metadata": {
    "scrolled": true
   },
   "outputs": [
    {
     "data": {
      "text/plain": [
       "[9, 7, 5, 3, 2, 1]"
      ]
     },
     "execution_count": 1,
     "metadata": {},
     "output_type": "execute_result"
    }
   ],
   "source": [
    "#1.List Sorting\n",
    "#Sort the given list in descending order using a built-in method.\n",
    "#numbers = [5, 2, 9, 1, 7, 3]\n",
    "\n",
    "x= [5,2,9,1,7,3]\n",
    "x.sort(reverse=True)\n",
    "x\n"
   ]
  },
  {
   "cell_type": "code",
   "execution_count": 2,
   "id": "81838499-f788-4c78-97a6-ea425ffb817e",
   "metadata": {},
   "outputs": [
    {
     "name": "stdout",
     "output_type": "stream",
     "text": [
      "[15, 25, 35]\n"
     ]
    }
   ],
   "source": [
    "#2.List Filtering\n",
    "#Filter the odd numbers from the given list using a built-in method.\n",
    "#numbers = [10, 15, 20, 25, 30, 35, 40]\n",
    "#expected result :[15, 25, 35]\n",
    "\n",
    "x = [10,15,20,25,30,35,40]\n",
    "odd =[]\n",
    "for i in x :\n",
    "         if i%2==1 :\n",
    "             odd.append(i)\n",
    "          \n",
    "print(odd)\n"
   ]
  },
  {
   "cell_type": "code",
   "execution_count": 3,
   "id": "3ae0c85d-27a3-40ee-8651-5827400fc111",
   "metadata": {},
   "outputs": [
    {
     "data": {
      "text/html": [
       "<div>\n",
       "<style scoped>\n",
       "    .dataframe tbody tr th:only-of-type {\n",
       "        vertical-align: middle;\n",
       "    }\n",
       "\n",
       "    .dataframe tbody tr th {\n",
       "        vertical-align: top;\n",
       "    }\n",
       "\n",
       "    .dataframe thead th {\n",
       "        text-align: right;\n",
       "    }\n",
       "</style>\n",
       "<table border=\"1\" class=\"dataframe\">\n",
       "  <thead>\n",
       "    <tr style=\"text-align: right;\">\n",
       "      <th></th>\n",
       "      <th>Student</th>\n",
       "      <th>Grade</th>\n",
       "    </tr>\n",
       "  </thead>\n",
       "  <tbody>\n",
       "    <tr>\n",
       "      <th>0</th>\n",
       "      <td>Ameera</td>\n",
       "      <td>A</td>\n",
       "    </tr>\n",
       "    <tr>\n",
       "      <th>1</th>\n",
       "      <td>Arathy</td>\n",
       "      <td>B</td>\n",
       "    </tr>\n",
       "    <tr>\n",
       "      <th>2</th>\n",
       "      <td>Neethu</td>\n",
       "      <td>A</td>\n",
       "    </tr>\n",
       "    <tr>\n",
       "      <th>3</th>\n",
       "      <td>Mahesh</td>\n",
       "      <td>C</td>\n",
       "    </tr>\n",
       "  </tbody>\n",
       "</table>\n",
       "</div>"
      ],
      "text/plain": [
       "  Student Grade\n",
       "0  Ameera     A\n",
       "1  Arathy     B\n",
       "2  Neethu     A\n",
       "3  Mahesh     C"
      ]
     },
     "execution_count": 3,
     "metadata": {},
     "output_type": "execute_result"
    }
   ],
   "source": [
    "#3: Dictionary Manipulation\n",
    "#Create a dictionary to store student names and their grades. \n",
    "#Implement the following functionalities:Add a new student.Remove a student.\n",
    "#Update a student's grade.Display all students and their grades.dict = {\"Student\":[\"Ameera\",\"Arathy\",\"Neethu\",\"Mahesh\"],\"Grade\":[\"A\",\"B\",\"A\",\"C\"]}\n",
    "\n",
    "dict= {'Student': ['Ameera', 'Arathy', 'Neethu', 'Mahesh'],\n",
    " 'Grade': ['A', 'B', 'A', 'C']}\n",
    "import pandas as pd\n",
    "pd.DataFrame(dict)\n",
    "\n"
   ]
  },
  {
   "cell_type": "code",
   "execution_count": 4,
   "id": "21e56670-bfb2-41d3-b963-0e16637af672",
   "metadata": {},
   "outputs": [],
   "source": [
    "dict[\"Student\"].append(\"Sneha\")\n",
    "dict[\"Grade\"].append(\"B\")\n"
   ]
  },
  {
   "cell_type": "code",
   "execution_count": 5,
   "id": "05db87dc-2aff-4085-95ee-b46f50bf3fdf",
   "metadata": {},
   "outputs": [
    {
     "data": {
      "text/html": [
       "<div>\n",
       "<style scoped>\n",
       "    .dataframe tbody tr th:only-of-type {\n",
       "        vertical-align: middle;\n",
       "    }\n",
       "\n",
       "    .dataframe tbody tr th {\n",
       "        vertical-align: top;\n",
       "    }\n",
       "\n",
       "    .dataframe thead th {\n",
       "        text-align: right;\n",
       "    }\n",
       "</style>\n",
       "<table border=\"1\" class=\"dataframe\">\n",
       "  <thead>\n",
       "    <tr style=\"text-align: right;\">\n",
       "      <th></th>\n",
       "      <th>Student</th>\n",
       "      <th>Grade</th>\n",
       "    </tr>\n",
       "  </thead>\n",
       "  <tbody>\n",
       "    <tr>\n",
       "      <th>0</th>\n",
       "      <td>Ameera</td>\n",
       "      <td>A</td>\n",
       "    </tr>\n",
       "    <tr>\n",
       "      <th>1</th>\n",
       "      <td>Arathy</td>\n",
       "      <td>B</td>\n",
       "    </tr>\n",
       "    <tr>\n",
       "      <th>2</th>\n",
       "      <td>Neethu</td>\n",
       "      <td>A</td>\n",
       "    </tr>\n",
       "    <tr>\n",
       "      <th>3</th>\n",
       "      <td>Mahesh</td>\n",
       "      <td>C</td>\n",
       "    </tr>\n",
       "    <tr>\n",
       "      <th>4</th>\n",
       "      <td>Sneha</td>\n",
       "      <td>B</td>\n",
       "    </tr>\n",
       "  </tbody>\n",
       "</table>\n",
       "</div>"
      ],
      "text/plain": [
       "  Student Grade\n",
       "0  Ameera     A\n",
       "1  Arathy     B\n",
       "2  Neethu     A\n",
       "3  Mahesh     C\n",
       "4   Sneha     B"
      ]
     },
     "execution_count": 5,
     "metadata": {},
     "output_type": "execute_result"
    }
   ],
   "source": [
    "pd.DataFrame(dict)"
   ]
  },
  {
   "cell_type": "code",
   "execution_count": 6,
   "id": "b2bbde5d-615a-4df9-b519-61ce9d7463e5",
   "metadata": {},
   "outputs": [],
   "source": [
    "#Deleting mahesh from dict\n",
    "\n",
    "index1 = dict[\"Student\"].index(\"Mahesh\")\n",
    "del dict[\"Student\"][index1]\n",
    "del dict[\"Grade\"][index1]\n"
   ]
  },
  {
   "cell_type": "code",
   "execution_count": 7,
   "id": "a4051195-4017-41e7-9239-1dd4521b5b32",
   "metadata": {},
   "outputs": [
    {
     "data": {
      "text/html": [
       "<div>\n",
       "<style scoped>\n",
       "    .dataframe tbody tr th:only-of-type {\n",
       "        vertical-align: middle;\n",
       "    }\n",
       "\n",
       "    .dataframe tbody tr th {\n",
       "        vertical-align: top;\n",
       "    }\n",
       "\n",
       "    .dataframe thead th {\n",
       "        text-align: right;\n",
       "    }\n",
       "</style>\n",
       "<table border=\"1\" class=\"dataframe\">\n",
       "  <thead>\n",
       "    <tr style=\"text-align: right;\">\n",
       "      <th></th>\n",
       "      <th>Student</th>\n",
       "      <th>Grade</th>\n",
       "    </tr>\n",
       "  </thead>\n",
       "  <tbody>\n",
       "    <tr>\n",
       "      <th>0</th>\n",
       "      <td>Ameera</td>\n",
       "      <td>A</td>\n",
       "    </tr>\n",
       "    <tr>\n",
       "      <th>1</th>\n",
       "      <td>Arathy</td>\n",
       "      <td>B</td>\n",
       "    </tr>\n",
       "    <tr>\n",
       "      <th>2</th>\n",
       "      <td>Neethu</td>\n",
       "      <td>A</td>\n",
       "    </tr>\n",
       "    <tr>\n",
       "      <th>3</th>\n",
       "      <td>Sneha</td>\n",
       "      <td>B</td>\n",
       "    </tr>\n",
       "  </tbody>\n",
       "</table>\n",
       "</div>"
      ],
      "text/plain": [
       "  Student Grade\n",
       "0  Ameera     A\n",
       "1  Arathy     B\n",
       "2  Neethu     A\n",
       "3   Sneha     B"
      ]
     },
     "execution_count": 7,
     "metadata": {},
     "output_type": "execute_result"
    }
   ],
   "source": [
    "pd.DataFrame(dict)"
   ]
  },
  {
   "cell_type": "code",
   "execution_count": 8,
   "id": "468f0a23-b14c-46bd-a870-1add43318ea3",
   "metadata": {},
   "outputs": [],
   "source": [
    "#updating Sneha\"s Grade\n",
    "dict.update({\"Grade\":[\"A\",\"B\",\"A\",\"C\"]})\n"
   ]
  },
  {
   "cell_type": "code",
   "execution_count": 9,
   "id": "43ef853e-42e3-4750-be7e-72823e912ae6",
   "metadata": {},
   "outputs": [
    {
     "data": {
      "text/html": [
       "<div>\n",
       "<style scoped>\n",
       "    .dataframe tbody tr th:only-of-type {\n",
       "        vertical-align: middle;\n",
       "    }\n",
       "\n",
       "    .dataframe tbody tr th {\n",
       "        vertical-align: top;\n",
       "    }\n",
       "\n",
       "    .dataframe thead th {\n",
       "        text-align: right;\n",
       "    }\n",
       "</style>\n",
       "<table border=\"1\" class=\"dataframe\">\n",
       "  <thead>\n",
       "    <tr style=\"text-align: right;\">\n",
       "      <th></th>\n",
       "      <th>Student</th>\n",
       "      <th>Grade</th>\n",
       "    </tr>\n",
       "  </thead>\n",
       "  <tbody>\n",
       "    <tr>\n",
       "      <th>0</th>\n",
       "      <td>Ameera</td>\n",
       "      <td>A</td>\n",
       "    </tr>\n",
       "    <tr>\n",
       "      <th>1</th>\n",
       "      <td>Arathy</td>\n",
       "      <td>B</td>\n",
       "    </tr>\n",
       "    <tr>\n",
       "      <th>2</th>\n",
       "      <td>Neethu</td>\n",
       "      <td>A</td>\n",
       "    </tr>\n",
       "    <tr>\n",
       "      <th>3</th>\n",
       "      <td>Sneha</td>\n",
       "      <td>C</td>\n",
       "    </tr>\n",
       "  </tbody>\n",
       "</table>\n",
       "</div>"
      ],
      "text/plain": [
       "  Student Grade\n",
       "0  Ameera     A\n",
       "1  Arathy     B\n",
       "2  Neethu     A\n",
       "3   Sneha     C"
      ]
     },
     "execution_count": 9,
     "metadata": {},
     "output_type": "execute_result"
    }
   ],
   "source": [
    "pd.DataFrame(dict)"
   ]
  },
  {
   "cell_type": "code",
   "execution_count": 10,
   "id": "842c6e81-2a7e-4982-b38b-7efb20d31c03",
   "metadata": {},
   "outputs": [],
   "source": [
    "# 4: Set OperationsGiven two sets, find the union, intersection, and difference.\n",
    "#set1 = {1, 2, 3, 4, 5}\n",
    "#set2 = {4, 5, 6, 7, 8}\n",
    "#Expected Output:Union: {1, 2, 3, 4, 5, 6, 7, 8}\n",
    "#Intersection: {4, 5}\n",
    "#Difference (set1 - set2): {1, 2, 3}\n",
    "\n",
    "set1 = {1,2,3,4,5}\n",
    "set2 ={4,5,6,7,8}"
   ]
  },
  {
   "cell_type": "code",
   "execution_count": 11,
   "id": "c129a22f-4aa6-4606-91db-135da8eea2c0",
   "metadata": {},
   "outputs": [
    {
     "data": {
      "text/plain": [
       "{1, 2, 3, 4, 5, 6, 7, 8}"
      ]
     },
     "execution_count": 11,
     "metadata": {},
     "output_type": "execute_result"
    }
   ],
   "source": [
    "set1.union(set2)"
   ]
  },
  {
   "cell_type": "code",
   "execution_count": 12,
   "id": "9def9aa2-972a-4ab2-a9f8-6e60265e6745",
   "metadata": {},
   "outputs": [
    {
     "data": {
      "text/plain": [
       "{4, 5}"
      ]
     },
     "execution_count": 12,
     "metadata": {},
     "output_type": "execute_result"
    }
   ],
   "source": [
    "set1.intersection(set2)"
   ]
  },
  {
   "cell_type": "code",
   "execution_count": 13,
   "id": "2b826006-e543-4a5e-86b4-e85603a7619e",
   "metadata": {},
   "outputs": [
    {
     "data": {
      "text/plain": [
       "{1, 2, 3}"
      ]
     },
     "execution_count": 13,
     "metadata": {},
     "output_type": "execute_result"
    }
   ],
   "source": [
    "set1.difference(set2)"
   ]
  },
  {
   "cell_type": "code",
   "execution_count": 14,
   "id": "9479eb97-145e-4504-b53d-b7169358865b",
   "metadata": {},
   "outputs": [
    {
     "name": "stdin",
     "output_type": "stream",
     "text": [
      "Enter a string:  ameerabanu\n"
     ]
    },
    {
     "name": "stdout",
     "output_type": "stream",
     "text": [
      "Frequency of each character:\n",
      " {'a': 3, 'm': 1, 'e': 2, 'r': 1, 'b': 1, 'n': 1, 'u': 1}\n"
     ]
    }
   ],
   "source": [
    "#5: String Frequency CounterWrite a program that counts the frequency of each character in a given string.\n",
    "#input_string = \"hello world\"\n",
    "#h:1\n",
    "#e:1\n",
    "#l:3 etc\n",
    "\n",
    "\n",
    "def freq_count(x):\n",
    "    freq = {}\n",
    "    for i in x:\n",
    "        if i in freq:\n",
    "            freq[i] += 1\n",
    "        else:\n",
    "            freq[i] = 1 \n",
    "    \n",
    "    return freq\n",
    "\n",
    "x = input(\"Enter a string: \")\n",
    "print(\"Frequency of each character:\\n\", freq_count(x))\n"
   ]
  },
  {
   "cell_type": "code",
   "execution_count": null,
   "id": "3acf4fdf-ef32-4f19-b5f7-32a93d62f432",
   "metadata": {},
   "outputs": [],
   "source": []
  }
 ],
 "metadata": {
  "kernelspec": {
   "display_name": "Python 3 (ipykernel)",
   "language": "python",
   "name": "python3"
  },
  "language_info": {
   "codemirror_mode": {
    "name": "ipython",
    "version": 3
   },
   "file_extension": ".py",
   "mimetype": "text/x-python",
   "name": "python",
   "nbconvert_exporter": "python",
   "pygments_lexer": "ipython3",
   "version": "3.12.4"
  }
 },
 "nbformat": 4,
 "nbformat_minor": 5
}
