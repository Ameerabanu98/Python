{
 "cells": [
  {
   "cell_type": "markdown",
   "id": "13551d7e-3dc3-45cc-aae0-93abc206eb84",
   "metadata": {},
   "source": [
    "# Numpy,Pandas,Matplotlib and Seaborn"
   ]
  },
  {
   "cell_type": "markdown",
   "id": "1650b55e-9bf3-424d-b54f-0ffa0d93fe54",
   "metadata": {},
   "source": [
    "\n",
    "### 1.Create a numpy array containing the numbers from 1 to 10, and then reshape it to a 2x5 matrix."
   ]
  },
  {
   "cell_type": "code",
   "execution_count": 2,
   "id": "0615c89c-0feb-44f9-ae87-b1946d56fea5",
   "metadata": {},
   "outputs": [
    {
     "data": {
      "text/plain": [
       "array([[ 1,  2,  3,  4,  5],\n",
       "       [ 6,  7,  8,  9, 10]])"
      ]
     },
     "execution_count": 2,
     "metadata": {},
     "output_type": "execute_result"
    }
   ],
   "source": [
    "import numpy as np\n",
    "x = np.array([1,2,3,4,5,6,7,8,9,10])\n",
    "x.reshape(2,5)"
   ]
  },
  {
   "cell_type": "markdown",
   "id": "20f9aaa7-a41f-4de8-87a3-20cb34691847",
   "metadata": {},
   "source": [
    "### 2.Create a numpy array containing the numbers from 1 to 20, and then extract the elements between the 5th and 15th index."
   ]
  },
  {
   "cell_type": "code",
   "execution_count": 4,
   "id": "54ee2374-e66b-429b-9ee5-d8da90653a47",
   "metadata": {},
   "outputs": [
    {
     "data": {
      "text/plain": [
       "array([ 1,  2,  3,  4,  5,  6,  7,  8,  9, 10, 11, 12, 13, 14, 15, 16, 17,\n",
       "       18, 19, 20])"
      ]
     },
     "execution_count": 4,
     "metadata": {},
     "output_type": "execute_result"
    }
   ],
   "source": [
    "array = np.arange(1,21) # arange\n",
    "array"
   ]
  },
  {
   "cell_type": "code",
   "execution_count": 5,
   "id": "edf0ebc8-f909-40c9-bf4d-2043f264ab87",
   "metadata": {},
   "outputs": [
    {
     "data": {
      "text/plain": [
       "array([ 7,  8,  9, 10, 11, 12, 13, 14, 15])"
      ]
     },
     "execution_count": 5,
     "metadata": {},
     "output_type": "execute_result"
    }
   ],
   "source": [
    "array[6:15]"
   ]
  },
  {
   "cell_type": "markdown",
   "id": "e4f43ea0-9e3a-4e1c-a75f-0753ed490892",
   "metadata": {},
   "source": [
    "### 3.Create a Pandas series with the following data: {'apples': 3, 'bananas': 2, 'oranges': 1}. Then, add a new item to the series with the key 'pears' and the value 4."
   ]
  },
  {
   "cell_type": "code",
   "execution_count": 7,
   "id": "f669846b-fad7-44bf-8e60-56b863d1a0c6",
   "metadata": {},
   "outputs": [
    {
     "name": "stdout",
     "output_type": "stream",
     "text": [
      "apples     3\n",
      "bananas    2\n",
      "oranges    1\n",
      "dtype: int64\n"
     ]
    }
   ],
   "source": [
    "import pandas as pd\n",
    "data = {'apples': 3, 'bananas': 2, 'oranges': 1}\n",
    "fruits =pd.Series(data)\n",
    "print(fruits)"
   ]
  },
  {
   "cell_type": "code",
   "execution_count": 8,
   "id": "7000b0a3-768d-4eb4-8b3e-dcb3368dd299",
   "metadata": {},
   "outputs": [
    {
     "name": "stdout",
     "output_type": "stream",
     "text": [
      "apples     3\n",
      "bananas    2\n",
      "oranges    1\n",
      "pear       4\n",
      "dtype: int64\n"
     ]
    }
   ],
   "source": [
    "fruits[\"pear\"] = 4\n",
    "print(fruits)"
   ]
  },
  {
   "cell_type": "markdown",
   "id": "316bfe58-ef93-45ff-9426-ba4bf5332bcf",
   "metadata": {},
   "source": [
    "### 4.Create a dataframe with the following columns: name, age, and gender. The dataframe should have 10 rows of data."
   ]
  },
  {
   "cell_type": "code",
   "execution_count": 10,
   "id": "15f8bd0c-4876-42a3-a301-a688e2163ddd",
   "metadata": {},
   "outputs": [
    {
     "data": {
      "text/html": [
       "<div>\n",
       "<style scoped>\n",
       "    .dataframe tbody tr th:only-of-type {\n",
       "        vertical-align: middle;\n",
       "    }\n",
       "\n",
       "    .dataframe tbody tr th {\n",
       "        vertical-align: top;\n",
       "    }\n",
       "\n",
       "    .dataframe thead th {\n",
       "        text-align: right;\n",
       "    }\n",
       "</style>\n",
       "<table border=\"1\" class=\"dataframe\">\n",
       "  <thead>\n",
       "    <tr style=\"text-align: right;\">\n",
       "      <th></th>\n",
       "      <th>Name</th>\n",
       "      <th>Age</th>\n",
       "      <th>Gender</th>\n",
       "    </tr>\n",
       "  </thead>\n",
       "  <tbody>\n",
       "    <tr>\n",
       "      <th>0</th>\n",
       "      <td>Alen</td>\n",
       "      <td>22</td>\n",
       "      <td>Male</td>\n",
       "    </tr>\n",
       "    <tr>\n",
       "      <th>1</th>\n",
       "      <td>Beena</td>\n",
       "      <td>25</td>\n",
       "      <td>Female</td>\n",
       "    </tr>\n",
       "    <tr>\n",
       "      <th>2</th>\n",
       "      <td>Cathy</td>\n",
       "      <td>24</td>\n",
       "      <td>Female</td>\n",
       "    </tr>\n",
       "    <tr>\n",
       "      <th>3</th>\n",
       "      <td>Dilna</td>\n",
       "      <td>26</td>\n",
       "      <td>Female</td>\n",
       "    </tr>\n",
       "    <tr>\n",
       "      <th>4</th>\n",
       "      <td>Ellen</td>\n",
       "      <td>27</td>\n",
       "      <td>Female</td>\n",
       "    </tr>\n",
       "    <tr>\n",
       "      <th>5</th>\n",
       "      <td>Frank</td>\n",
       "      <td>30</td>\n",
       "      <td>Male</td>\n",
       "    </tr>\n",
       "    <tr>\n",
       "      <th>6</th>\n",
       "      <td>Gregory</td>\n",
       "      <td>33</td>\n",
       "      <td>Male</td>\n",
       "    </tr>\n",
       "    <tr>\n",
       "      <th>7</th>\n",
       "      <td>Hina</td>\n",
       "      <td>21</td>\n",
       "      <td>Female</td>\n",
       "    </tr>\n",
       "    <tr>\n",
       "      <th>8</th>\n",
       "      <td>Inara</td>\n",
       "      <td>32</td>\n",
       "      <td>Female</td>\n",
       "    </tr>\n",
       "    <tr>\n",
       "      <th>9</th>\n",
       "      <td>Joel</td>\n",
       "      <td>29</td>\n",
       "      <td>Male</td>\n",
       "    </tr>\n",
       "  </tbody>\n",
       "</table>\n",
       "</div>"
      ],
      "text/plain": [
       "      Name  Age  Gender\n",
       "0     Alen   22    Male\n",
       "1    Beena   25  Female\n",
       "2    Cathy   24  Female\n",
       "3    Dilna   26  Female\n",
       "4    Ellen   27  Female\n",
       "5    Frank   30    Male\n",
       "6  Gregory   33    Male\n",
       "7     Hina   21  Female\n",
       "8    Inara   32  Female\n",
       "9     Joel   29    Male"
      ]
     },
     "execution_count": 10,
     "metadata": {},
     "output_type": "execute_result"
    }
   ],
   "source": [
    "data = {\"Name\" :[\"Alen\",\"Beena\",\"Cathy\",\"Dilna\",\"Ellen\",\"Frank\",\"Gregory\",\"Hina\",\"Inara\",\"Joel\"],\n",
    "        \"Age\" :[22,25,24,26,27,30,33,21,32,29],\n",
    "        \"Gender\":[\"Male\",\"Female\",\"Female\",\"Female\",\"Female\",\"Male\",\"Male\",\"Female\",\"Female\",\"Male\"]}\n",
    "pd.DataFrame(data)"
   ]
  },
  {
   "cell_type": "markdown",
   "id": "72420b64-50a7-4368-8a8d-499da796d065",
   "metadata": {},
   "source": [
    "### 5.Add a new column to the data frame created in question 1, called occupation. The values for this column should be Programmer, Manager, and Analyst, corresponding to the rows in the dataframe."
   ]
  },
  {
   "cell_type": "code",
   "execution_count": 12,
   "id": "05bd1b8c-f3d7-4167-9685-7f74ed8892c6",
   "metadata": {},
   "outputs": [
    {
     "data": {
      "text/html": [
       "<div>\n",
       "<style scoped>\n",
       "    .dataframe tbody tr th:only-of-type {\n",
       "        vertical-align: middle;\n",
       "    }\n",
       "\n",
       "    .dataframe tbody tr th {\n",
       "        vertical-align: top;\n",
       "    }\n",
       "\n",
       "    .dataframe thead th {\n",
       "        text-align: right;\n",
       "    }\n",
       "</style>\n",
       "<table border=\"1\" class=\"dataframe\">\n",
       "  <thead>\n",
       "    <tr style=\"text-align: right;\">\n",
       "      <th></th>\n",
       "      <th>Name</th>\n",
       "      <th>Age</th>\n",
       "      <th>Gender</th>\n",
       "      <th>Occupation</th>\n",
       "    </tr>\n",
       "  </thead>\n",
       "  <tbody>\n",
       "    <tr>\n",
       "      <th>0</th>\n",
       "      <td>Alen</td>\n",
       "      <td>22</td>\n",
       "      <td>Male</td>\n",
       "      <td>Programmer</td>\n",
       "    </tr>\n",
       "    <tr>\n",
       "      <th>1</th>\n",
       "      <td>Beena</td>\n",
       "      <td>25</td>\n",
       "      <td>Female</td>\n",
       "      <td>Manager</td>\n",
       "    </tr>\n",
       "    <tr>\n",
       "      <th>2</th>\n",
       "      <td>Cathy</td>\n",
       "      <td>24</td>\n",
       "      <td>Female</td>\n",
       "      <td>Analyst</td>\n",
       "    </tr>\n",
       "    <tr>\n",
       "      <th>3</th>\n",
       "      <td>Dilna</td>\n",
       "      <td>26</td>\n",
       "      <td>Female</td>\n",
       "      <td>Programmer</td>\n",
       "    </tr>\n",
       "    <tr>\n",
       "      <th>4</th>\n",
       "      <td>Ellen</td>\n",
       "      <td>27</td>\n",
       "      <td>Female</td>\n",
       "      <td>Manager</td>\n",
       "    </tr>\n",
       "    <tr>\n",
       "      <th>5</th>\n",
       "      <td>Frank</td>\n",
       "      <td>30</td>\n",
       "      <td>Male</td>\n",
       "      <td>Analyst</td>\n",
       "    </tr>\n",
       "    <tr>\n",
       "      <th>6</th>\n",
       "      <td>Gregory</td>\n",
       "      <td>33</td>\n",
       "      <td>Male</td>\n",
       "      <td>Programmer</td>\n",
       "    </tr>\n",
       "    <tr>\n",
       "      <th>7</th>\n",
       "      <td>Hina</td>\n",
       "      <td>21</td>\n",
       "      <td>Female</td>\n",
       "      <td>Manager</td>\n",
       "    </tr>\n",
       "    <tr>\n",
       "      <th>8</th>\n",
       "      <td>Inara</td>\n",
       "      <td>32</td>\n",
       "      <td>Female</td>\n",
       "      <td>Analyst</td>\n",
       "    </tr>\n",
       "    <tr>\n",
       "      <th>9</th>\n",
       "      <td>Joel</td>\n",
       "      <td>29</td>\n",
       "      <td>Male</td>\n",
       "      <td>Programmer</td>\n",
       "    </tr>\n",
       "  </tbody>\n",
       "</table>\n",
       "</div>"
      ],
      "text/plain": [
       "      Name  Age  Gender  Occupation\n",
       "0     Alen   22    Male  Programmer\n",
       "1    Beena   25  Female     Manager\n",
       "2    Cathy   24  Female     Analyst\n",
       "3    Dilna   26  Female  Programmer\n",
       "4    Ellen   27  Female     Manager\n",
       "5    Frank   30    Male     Analyst\n",
       "6  Gregory   33    Male  Programmer\n",
       "7     Hina   21  Female     Manager\n",
       "8    Inara   32  Female     Analyst\n",
       "9     Joel   29    Male  Programmer"
      ]
     },
     "execution_count": 12,
     "metadata": {},
     "output_type": "execute_result"
    }
   ],
   "source": [
    "data.update({\"Occupation\" :[\"Programmer\",\"Manager\",\"Analyst\",\"Programmer\",\"Manager\",\"Analyst\",\"Programmer\",\"Manager\",\"Analyst\",\"Programmer\"]})\n",
    "pd.DataFrame(data)\n"
   ]
  },
  {
   "cell_type": "markdown",
   "id": "633a778b-adef-4edd-b57a-b5e5d44967a9",
   "metadata": {},
   "source": [
    "### 6.Select the rows of the dataframe where the age is greater than or equal to 30."
   ]
  },
  {
   "cell_type": "code",
   "execution_count": 14,
   "id": "53e90cfe-fa4d-4640-9876-aedb207e2632",
   "metadata": {},
   "outputs": [
    {
     "data": {
      "text/html": [
       "<div>\n",
       "<style scoped>\n",
       "    .dataframe tbody tr th:only-of-type {\n",
       "        vertical-align: middle;\n",
       "    }\n",
       "\n",
       "    .dataframe tbody tr th {\n",
       "        vertical-align: top;\n",
       "    }\n",
       "\n",
       "    .dataframe thead th {\n",
       "        text-align: right;\n",
       "    }\n",
       "</style>\n",
       "<table border=\"1\" class=\"dataframe\">\n",
       "  <thead>\n",
       "    <tr style=\"text-align: right;\">\n",
       "      <th></th>\n",
       "      <th>Name</th>\n",
       "      <th>Age</th>\n",
       "      <th>Gender</th>\n",
       "      <th>Occupation</th>\n",
       "    </tr>\n",
       "  </thead>\n",
       "  <tbody>\n",
       "    <tr>\n",
       "      <th>5</th>\n",
       "      <td>Frank</td>\n",
       "      <td>30</td>\n",
       "      <td>Male</td>\n",
       "      <td>Analyst</td>\n",
       "    </tr>\n",
       "    <tr>\n",
       "      <th>6</th>\n",
       "      <td>Gregory</td>\n",
       "      <td>33</td>\n",
       "      <td>Male</td>\n",
       "      <td>Programmer</td>\n",
       "    </tr>\n",
       "    <tr>\n",
       "      <th>8</th>\n",
       "      <td>Inara</td>\n",
       "      <td>32</td>\n",
       "      <td>Female</td>\n",
       "      <td>Analyst</td>\n",
       "    </tr>\n",
       "  </tbody>\n",
       "</table>\n",
       "</div>"
      ],
      "text/plain": [
       "      Name  Age  Gender  Occupation\n",
       "5    Frank   30    Male     Analyst\n",
       "6  Gregory   33    Male  Programmer\n",
       "8    Inara   32  Female     Analyst"
      ]
     },
     "execution_count": 14,
     "metadata": {},
     "output_type": "execute_result"
    }
   ],
   "source": [
    "Data = pd.DataFrame(data)\n",
    "Data[Data[\"Age\"]>=30]"
   ]
  },
  {
   "cell_type": "markdown",
   "id": "46cf2a82-7658-4128-ae54-5069d81ecb64",
   "metadata": {},
   "source": [
    "### 7.Convert this dataframe to a csv file and read that csv file, finally display the contents."
   ]
  },
  {
   "cell_type": "code",
   "execution_count": 16,
   "id": "7edd446e-18ff-4e36-9850-3d74855685c0",
   "metadata": {},
   "outputs": [],
   "source": [
    "Data.to_csv(\"Employee.csv\")"
   ]
  },
  {
   "cell_type": "code",
   "execution_count": 17,
   "id": "bfcba26c-19d2-4ff6-96a1-c63cb5902f86",
   "metadata": {},
   "outputs": [
    {
     "name": "stdout",
     "output_type": "stream",
     "text": [
      ",Name,Age,Gender,Occupation\n",
      "0,Alen,22,Male,Programmer\n",
      "1,Beena,25,Female,Manager\n",
      "2,Cathy,24,Female,Analyst\n",
      "3,Dilna,26,Female,Programmer\n",
      "4,Ellen,27,Female,Manager\n",
      "5,Frank,30,Male,Analyst\n",
      "6,Gregory,33,Male,Programmer\n",
      "7,Hina,21,Female,Manager\n",
      "8,Inara,32,Female,Analyst\n",
      "9,Joel,29,Male,Programmer\n",
      "\n"
     ]
    }
   ],
   "source": [
    "file= open(r\"C:\\Users\\BIT LOGIC\\Employee.csv\")\n",
    "print(file.read())"
   ]
  },
  {
   "cell_type": "markdown",
   "id": "29ac78e5-67ac-498b-b2af-e2433b9ed286",
   "metadata": {},
   "source": [
    "### 8.Create a line plot using matplotlib pyplot that displays the population of four different cities over time. Each city should have its own line, and the x-axis should represent years (e.g. 2010, 2011, 2012, etc.) while the y-axis should represent the population.\n",
    "The data for the four cities is provided below:\n",
    "\n",
    "City A: [500000, 550000, 600000, 650000, 700000, 750000, 800000]\n",
    "\n",
    "City B: [800000, 850000, 900000, 950000, 1000000, 1050000, 1100000]\n",
    "\n",
    "City C: [1000000, 1050000, 1100000, 1150000, 1200000, 1250000, 1300000]\n",
    "\n",
    "City D: [1200000, 1250000, 1300000, 1350000, 1400000, 1450000, 1500000]"
   ]
  },
  {
   "cell_type": "code",
   "execution_count": 19,
   "id": "57347f0d-776d-44bc-a92c-8e62ef63c329",
   "metadata": {},
   "outputs": [
    {
     "data": {
      "image/png": "[encoded data removed]",
      "text/plain": [
       "<Figure size 640x480 with 1 Axes>"
      ]
     },
     "metadata": {},
     "output_type": "display_data"
    }
   ],
   "source": [
    "import matplotlib.pyplot as plt\n",
    "cityA = [500000, 550000, 600000, 650000, 700000, 750000, 800000]\n",
    "cityB = [800000, 850000, 900000, 950000, 1000000, 1050000, 1100000]\n",
    "cityC = [1000000, 1050000, 1100000, 1150000, 1200000, 1250000, 1300000]\n",
    "cityD = [1200000, 1250000, 1300000, 1350000, 1400000, 1450000, 1500000]\n",
    "years =[2010,2011,2012,2013,2014,2015,2017]\n",
    "\n",
    "plt.plot(years,cityA,linewidth = 2,label= \"cityA\",linestyle= \"-\")\n",
    "plt.plot(years,cityB,linewidth = 2,label= \"cityB\",linestyle= \"--\")\n",
    "plt.plot(years,cityC,linewidth = 2,label= \"cityC\",linestyle=\":\")\n",
    "plt.plot(years,cityD,linewidth = 2,label= \"cityD\",linestyle=\"-.\")\n",
    "plt.legend()\n",
    "plt.xlabel(\"Years\")\n",
    "plt.ylabel(\"Population in millions\")\n",
    "plt.title(\"Population Over Years\")\n",
    "plt.show()"
   ]
  },
  {
   "cell_type": "raw",
   "id": "3f13ecd7-cd86-4e8c-99a8-78851ee1f133",
   "metadata": {},
   "source": [
    "City D has the highest population and City A has the lowest population. Population is increasing in all cities as the years passes."
   ]
  },
  {
   "cell_type": "markdown",
   "id": "1feb900b-32ea-4ab7-a397-7f6c5936c385",
   "metadata": {},
   "source": [
    "### 9.Create a scatter plot using seaborn that shows the relationship between the number of hours studied and the test scores obtained by a group of students. Use the following data:\n",
    "Hours Studied: [1, 2, 3, 4, 5, 6, 7, 8, 9, 10]\n",
    "Test Scores: [93, 57, 61, 54, 51, 53, 87, 81, 83, 85]"
   ]
  },
  {
   "cell_type": "code",
   "execution_count": 21,
   "id": "f89c2061-e184-44a2-9638-6ba8cebf92e0",
   "metadata": {},
   "outputs": [
    {
     "data": {
      "text/plain": [
       "[Text(0.5, 0, 'Hours Studied'),\n",
       " Text(0, 0.5, 'Test Scores'),\n",
       " Text(0.5, 1.0, 'Hours Studied Vs Test Scores')]"
      ]
     },
     "execution_count": 21,
     "metadata": {},
     "output_type": "execute_result"
    },
    {
     "data": {
      "image/png": "[encoded data removed]",
      "text/plain": [
       "<Figure size 640x480 with 1 Axes>"
      ]
     },
     "metadata": {},
     "output_type": "display_data"
    }
   ],
   "source": [
    "import seaborn as sns\n",
    "Hours_Studied = [1, 2, 3, 4, 5, 6, 7, 8, 9, 10]\n",
    "Test_Scores = [93, 57, 61, 54, 51, 53, 87, 81, 83, 85]\n",
    "graph = sns.scatterplot(x = Hours_Studied,y=Test_Scores,color = \"r\",marker = \"D\")\n",
    "graph.set(xlabel =\"Hours Studied\", ylabel = \"Test Scores\", title =\"Hours Studied Vs Test Scores\")"
   ]
  },
  {
   "cell_type": "raw",
   "id": "535ea5c2-3018-4fab-bd3a-189e9c5e3017",
   "metadata": {},
   "source": [
    "Highest mark is scored by student who studied for 1 hour. and lowest is scored by one who studied for 5 hrs. Student who learns for about 7-10 hrs gets marks above 80."
   ]
  }
 ],
 "metadata": {
  "kernelspec": {
   "display_name": "Python 3 (ipykernel)",
   "language": "python",
   "name": "python3"
  },
  "language_info": {
   "codemirror_mode": {
    "name": "ipython",
    "version": 3
   },
   "file_extension": ".py",
   "mimetype": "text/x-python",
   "name": "python",
   "nbconvert_exporter": "python",
   "pygments_lexer": "ipython3",
   "version": "3.12.4"
  }
 },
 "nbformat": 4,
 "nbformat_minor": 5
}
