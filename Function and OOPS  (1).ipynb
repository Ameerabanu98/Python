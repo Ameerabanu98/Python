{
 "cells": [
  {
   "cell_type": "markdown",
   "id": "1ac21329-90f1-4fc5-be04-333a7c037724",
   "metadata": {},
   "source": [
    "# Functions And OOPs"
   ]
  },
  {
   "cell_type": "markdown",
   "id": "a0608e4a-3cf2-4811-ae00-d50eb2abd6db",
   "metadata": {},
   "source": [
    "### Write a Python program to read a file and display its contents.\n",
    "\n",
    "\n"
   ]
  },
  {
   "cell_type": "code",
   "execution_count": 3,
   "id": "807c9bbe-3823-4290-a977-10920279e485",
   "metadata": {},
   "outputs": [
    {
     "name": "stdout",
     "output_type": "stream",
     "text": [
      "Python is a high-level, general-purpose programming language. \n",
      "Python is dynamically typed . \n",
      "It supports multiple programming paradigms, including structured ,object-oriented and functional programming. \n",
      "Python's simple, easy to learn syntax emphasizes readability and therefore reduces the cost of program maintenance. \n",
      "Python supports modules and packages, which encourages program modularity and code reuse.\n"
     ]
    }
   ],
   "source": [
    "file = open(r\"C:\\Users\\BIT LOGIC\\Desktop\\python.txt\")\n",
    "print(file.read())"
   ]
  },
  {
   "cell_type": "markdown",
   "id": "b74e5a0a-41c6-4671-9d89-57e5d1ff174d",
   "metadata": {},
   "source": [
    "### Write a Python program to copy the contents of one file to another file.\n"
   ]
  },
  {
   "cell_type": "code",
   "execution_count": 77,
   "id": "f4d655bd-a4ce-4acf-b0b7-86638e75d723",
   "metadata": {},
   "outputs": [],
   "source": [
    "file = open(r\"C:\\Users\\BIT LOGIC\\Desktop\\python.txt\")\n",
    "file1 = open(\"pythoncopy.txt\",\"a\")\n",
    "for line in file.read():\n",
    "   file1.write(line)\n",
    "file1.close()\n",
    "file.close()\n"
   ]
  },
  {
   "cell_type": "code",
   "execution_count": 79,
   "id": "c7efeff2-5bde-486d-a8f3-bd4129186ae8",
   "metadata": {},
   "outputs": [
    {
     "name": "stdout",
     "output_type": "stream",
     "text": [
      "Python is a high-level, general-purpose programming language. \n",
      "Python is dynamically typed . \n",
      "It supports multiple programming paradigms, including structured ,object-oriented and functional programming. \n",
      "Python's simple, easy to learn syntax emphasizes readability and therefore reduces the cost of program maintenance. \n",
      "Python supports modules and packages, which encourages program modularity and code reuse.\n"
     ]
    }
   ],
   "source": [
    "file1 = open(r\"C:\\Users\\BIT LOGIC\\pythoncopy.txt\")\n",
    "print(file1.read())"
   ]
  },
  {
   "cell_type": "markdown",
   "id": "20f70202-4778-4b74-96f5-fd4ae107319d",
   "metadata": {},
   "source": [
    "### Write a Python program to read the content of a file and count the total number of words in that file.)"
   ]
  },
  {
   "cell_type": "code",
   "execution_count": 8,
   "id": "285bed81-08e3-41a1-931e-ceaa84edf80b",
   "metadata": {},
   "outputs": [
    {
     "name": "stdout",
     "output_type": "stream",
     "text": [
      "Python is a high-level, general-purpose programming language. \n",
      "Python is dynamically typed . \n",
      "It supports multiple programming paradigms, including structured ,object-oriented and functional programming. \n",
      "Python's simple, easy to learn syntax emphasizes readability and therefore reduces the cost of program maintenance. \n",
      "Python supports modules and packages, which encourages program modularity and code reuse.\n",
      "No of words= 51\n"
     ]
    }
   ],
   "source": [
    "file = open(r\"C:\\Users\\BIT LOGIC\\Desktop\\python.txt\")\n",
    "file_words=\" \"\n",
    "file_words= file.read()\n",
    "words = file_words.split()\n",
    "print(file_words)\n",
    "print(\"No of words=\",len(words))\n"
   ]
  },
  {
   "cell_type": "markdown",
   "id": "6dc85a87-e388-46c9-8f0a-79c09a7ecd02",
   "metadata": {},
   "source": [
    "### Write a Python program to read the content of a file and count the number of occurrences of a specific word in that file."
   ]
  },
  {
   "cell_type": "code",
   "execution_count": 10,
   "id": "3781c50f-390d-4fd2-9f00-8922df2ae264",
   "metadata": {},
   "outputs": [
    {
     "name": "stdout",
     "output_type": "stream",
     "text": [
      "Python is a high-level, general-purpose programming language. \n",
      "Python is dynamically typed . \n",
      "It supports multiple programming paradigms, including structured ,object-oriented and functional programming. \n",
      "Python's simple, easy to learn syntax emphasizes readability and therefore reduces the cost of program maintenance. \n",
      "Python supports modules and packages, which encourages program modularity and code reuse.\n"
     ]
    },
    {
     "name": "stdin",
     "output_type": "stream",
     "text": [
      "Enter a string : program\n"
     ]
    },
    {
     "name": "stdout",
     "output_type": "stream",
     "text": [
      "No of times occurred =  5\n"
     ]
    }
   ],
   "source": [
    "file = open(r\"C:\\Users\\BIT LOGIC\\Desktop\\python.txt\")\n",
    "word_count = \" \"\n",
    "word_count= file.read()\n",
    "print(word_count)\n",
    "x = input(\"Enter a string :\")\n",
    "times = word_count.count(x)\n",
    "print(\"No of times occurred = \",times)"
   ]
  },
  {
   "cell_type": "markdown",
   "id": "165dd1ed-d36c-4bd2-86c4-f1b5760b75f4",
   "metadata": {},
   "source": [
    "### Write a Python program that prompts the user to input a string and converts it to an integer. Use try-except blocks to handle any exceptions that might occur."
   ]
  },
  {
   "cell_type": "code",
   "execution_count": 33,
   "id": "d1fa706c-b039-48ef-b0d2-c698e5891df8",
   "metadata": {},
   "outputs": [
    {
     "name": "stdin",
     "output_type": "stream",
     "text": [
      "Enter a string  :  125 b\n"
     ]
    },
    {
     "name": "stdout",
     "output_type": "stream",
     "text": [
      "It is not an integer\n"
     ]
    }
   ],
   "source": [
    "x= input(\"Enter a string  : \")\n",
    "try:\n",
    "    y = [int(i) for i in x.split()]\n",
    "    print(y)\n",
    "except ValueError:\n",
    "    print(\"It is not an integer\") "
   ]
  },
  {
   "cell_type": "markdown",
   "id": "e3842d69-d2cb-42d2-bfa7-be0c8e0008ea",
   "metadata": {},
   "source": [
    "### Write a Python program that prompts the user to input a list of integers and raises an exception if any of the integers in the list are negative."
   ]
  },
  {
   "cell_type": "code",
   "execution_count": 31,
   "id": "12f1ae62-d784-4ef1-9b93-8371eb6cfc99",
   "metadata": {},
   "outputs": [
    {
     "name": "stdin",
     "output_type": "stream",
     "text": [
      "enter integers:  12 -7 5 -8\n"
     ]
    },
    {
     "name": "stdout",
     "output_type": "stream",
     "text": [
      "negative value is present\n"
     ]
    }
   ],
   "source": [
    "x = input(\"enter integers: \")\n",
    "def integers():  \n",
    "    y =[int(i) for i in x.split()]\n",
    "    for i in y:\n",
    "         if i<0:\n",
    "            raise ValueError \n",
    "    return y\n",
    "try :\n",
    "    print(\"the integers are :\",integers())\n",
    "\n",
    "except ValueError:\n",
    "    print(\"negative value is present\")\n"
   ]
  },
  {
   "cell_type": "markdown",
   "id": "285edaaa-dd5b-443e-b62d-8c353f3e8356",
   "metadata": {},
   "source": [
    "\n",
    "### Write a Python program that prompts the user to input a list of integers and computes the average of those integers. Use try-except blocks to handle any exceptions that might occur. Use the finally clause to print a message indicating that the program has finished running.\n",
    "    \n"
   ]
  },
  {
   "cell_type": "code",
   "execution_count": 35,
   "id": "153e5d4c-7b4f-424d-99f9-c78b9c319427",
   "metadata": {},
   "outputs": [
    {
     "name": "stdin",
     "output_type": "stream",
     "text": [
      "enter integers : 12 14 16\n"
     ]
    },
    {
     "name": "stdout",
     "output_type": "stream",
     "text": [
      "Average =  14.0\n",
      "program over\n"
     ]
    }
   ],
   "source": [
    "import numpy as np\n",
    "try:\n",
    "  x = input(\"enter integers :\")\n",
    "  y =[int(i) for i in x.split()]\n",
    "  print(\"Average = \" ,np.average(y))  \n",
    "except ValueError as e:\n",
    "     print(\"error occurred :\",e)\n",
    "finally:\n",
    "   print(\"program over\")"
   ]
  },
  {
   "cell_type": "markdown",
   "id": "798d108e-ae1e-4bdf-a2dd-a501adb7d1c0",
   "metadata": {},
   "source": [
    "### Write a Python program that prompts the user to input a list of integers and computes the average of those integers. Use try-except blocks to handle any exceptions that might occur. Use the finally clause to print a message indicating that the program has finished running."
   ]
  },
  {
   "cell_type": "code",
   "execution_count": 37,
   "id": "db92e019-7e30-4336-9ec9-cabd25cb777c",
   "metadata": {},
   "outputs": [
    {
     "name": "stdin",
     "output_type": "stream",
     "text": [
      "enter a file name with extension : textmessage.txt\n",
      "enter the string : hi,this is a text message.\n"
     ]
    },
    {
     "name": "stdout",
     "output_type": "stream",
     "text": [
      "welcome to python\n"
     ]
    }
   ],
   "source": [
    "try :\n",
    "   File_name =input(\"enter a file name with extension :\")\n",
    "   file =open(File_name,\"w\")\n",
    "   text= input(\"enter the string :\")\n",
    "   file.write(text)\n",
    "except ValueError:\n",
    "    print(\"error occurred\")\n",
    "finally:\n",
    "    print(\"welcome to python\")\n"
   ]
  },
  {
   "cell_type": "code",
   "execution_count": 39,
   "id": "13bde79c-fa78-46e9-8102-b5e07e35583e",
   "metadata": {},
   "outputs": [
    {
     "name": "stdout",
     "output_type": "stream",
     "text": [
      "Hi, this is a text message.\n"
     ]
    }
   ],
   "source": [
    "file = open(r\"textmsg.txt\")\n",
    "print(file.read())"
   ]
  },
  {
   "cell_type": "markdown",
   "id": "1d35d9a6-a118-4459-b996-775156a0b87d",
   "metadata": {},
   "source": [
    "### Write a Python function called calculate_sum that takes a list of numbers as an argument and returns the sum of all numbers in the list."
   ]
  },
  {
   "cell_type": "code",
   "execution_count": 41,
   "id": "f35419d3-d2da-4907-85f4-7f57387d95b5",
   "metadata": {},
   "outputs": [
    {
     "name": "stdin",
     "output_type": "stream",
     "text": [
      "enter numbers with spaces:  1 2 3 4 5 6\n"
     ]
    },
    {
     "name": "stdout",
     "output_type": "stream",
     "text": [
      "sum =  21\n"
     ]
    }
   ],
   "source": [
    "x = input(\"enter numbers with spaces: \")\n",
    "y =[int(i) for i in x.split()]\n",
    "def calculate_sum(y):  \n",
    "   sum=0\n",
    "   for i in y:\n",
    "       sum=sum+i \n",
    "   return sum\n",
    "print(\"sum = \",calculate_sum(y))    "
   ]
  },
  {
   "cell_type": "markdown",
   "id": "50be5cd9-384a-479f-9117-dd526e91a04f",
   "metadata": {},
   "source": [
    "### Write a Python function called is_palindrome that takes a string as an argument and returns True if the string is a palindrome (reads the same forward and backward), and False otherwise"
   ]
  },
  {
   "cell_type": "code",
   "execution_count": 92,
   "id": "080b4805-de0a-49a9-9ab7-7bb009d52d1d",
   "metadata": {},
   "outputs": [
    {
     "name": "stdin",
     "output_type": "stream",
     "text": [
      "enter a string : malayalam\n"
     ]
    },
    {
     "name": "stdout",
     "output_type": "stream",
     "text": [
      "reverse= malayalam\n",
      "the string is pallindrome - True\n"
     ]
    }
   ],
   "source": [
    "\n",
    "x = input(\"enter a string :\")\n",
    "def is_pallindrome(x):\n",
    "    reverse=\"\"\n",
    "    for char in x:\n",
    "        reverse = char + reverse\n",
    "    print(\"reverse=\",reverse)    \n",
    "    if reverse == x :  \n",
    "        return True\n",
    "    else:\n",
    "        return False\n",
    "print (\"the string is pallindrome -\",is_pallindrome(x))"
   ]
  },
  {
   "cell_type": "code",
   "execution_count": 94,
   "id": "c2cce5f5-e0dc-47b8-b6a7-8e64bc2fa6c4",
   "metadata": {},
   "outputs": [
    {
     "name": "stdin",
     "output_type": "stream",
     "text": [
      "enter a string : 12321\n"
     ]
    },
    {
     "name": "stdout",
     "output_type": "stream",
     "text": [
      "the string is pallindrome - True\n"
     ]
    }
   ],
   "source": [
    "# Another method using slicing\n",
    "\n",
    "x = input(\"enter a string :\")\n",
    "def is_pallindrome(x):\n",
    "    if x[::-1] == x :  #[start:stop:step]\n",
    "        return True\n",
    "    else:\n",
    "        return False\n",
    "print (\"the string is pallindrome -\",is_pallindrome(x))"
   ]
  },
  {
   "cell_type": "code",
   "execution_count": null,
   "id": "cab2d61c-e743-49d0-8412-cb523c80aa7c",
   "metadata": {},
   "outputs": [],
   "source": []
  }
 ],
 "metadata": {
  "kernelspec": {
   "display_name": "Python 3 (ipykernel)",
   "language": "python",
   "name": "python3"
  },
  "language_info": {
   "codemirror_mode": {
    "name": "ipython",
    "version": 3
   },
   "file_extension": ".py",
   "mimetype": "text/x-python",
   "name": "python",
   "nbconvert_exporter": "python",
   "pygments_lexer": "ipython3",
   "version": "3.12.4"
  }
 },
 "nbformat": 4,
 "nbformat_minor": 5
}
